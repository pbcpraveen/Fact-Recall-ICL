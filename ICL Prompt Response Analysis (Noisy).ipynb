{
 "cells": [
  {
   "cell_type": "code",
   "execution_count": 1,
   "id": "feb18690",
   "metadata": {},
   "outputs": [],
   "source": [
    "import pandas as pd\n",
    "from utils import *"
   ]
  },
  {
   "cell_type": "code",
   "execution_count": 2,
   "id": "264c788c",
   "metadata": {},
   "outputs": [],
   "source": [
    "df = pd.read_csv(\"result/sample1_icl_indirect_prompt_response_noisy.csv\")"
   ]
  },
  {
   "cell_type": "code",
   "execution_count": 4,
   "id": "e7ea68a1",
   "metadata": {},
   "outputs": [
    {
     "data": {
      "text/html": [
       "<div>\n",
       "<style scoped>\n",
       "    .dataframe tbody tr th:only-of-type {\n",
       "        vertical-align: middle;\n",
       "    }\n",
       "\n",
       "    .dataframe tbody tr th {\n",
       "        vertical-align: top;\n",
       "    }\n",
       "\n",
       "    .dataframe thead th {\n",
       "        text-align: right;\n",
       "    }\n",
       "</style>\n",
       "<table border=\"1\" class=\"dataframe\">\n",
       "  <thead>\n",
       "    <tr style=\"text-align: right;\">\n",
       "      <th></th>\n",
       "      <th>Unnamed: 0</th>\n",
       "      <th>prompt</th>\n",
       "      <th>prompt_indirect</th>\n",
       "      <th>ground_truth</th>\n",
       "      <th>citations_query</th>\n",
       "      <th>mean_citation_example</th>\n",
       "      <th>ground_truth_noisy</th>\n",
       "      <th>GPT 4 Response</th>\n",
       "      <th>GPT 4 Response Indirect</th>\n",
       "    </tr>\n",
       "  </thead>\n",
       "  <tbody>\n",
       "    <tr>\n",
       "      <th>10</th>\n",
       "      <td>10</td>\n",
       "      <td>Matthieu Ricard, a french buddhist monk, was b...</td>\n",
       "      <td>Matthieu Ricard, a french buddhist monk : 1953...</td>\n",
       "      <td>1955</td>\n",
       "      <td>44</td>\n",
       "      <td>28.333333</td>\n",
       "      <td>1961</td>\n",
       "      <td>born in 1956.</td>\n",
       "      <td>born in 1955.</td>\n",
       "    </tr>\n",
       "    <tr>\n",
       "      <th>14</th>\n",
       "      <td>14</td>\n",
       "      <td>Shirley Anne Field, a british actress, was bor...</td>\n",
       "      <td>Shirley Anne Field, a british actress : 1931.\\...</td>\n",
       "      <td>1938</td>\n",
       "      <td>1</td>\n",
       "      <td>24.666667</td>\n",
       "      <td>1934</td>\n",
       "      <td>born in 1946.</td>\n",
       "      <td>born in 1938.</td>\n",
       "    </tr>\n",
       "    <tr>\n",
       "      <th>77</th>\n",
       "      <td>77</td>\n",
       "      <td>Lawrence Paros, a american writer , educator ,...</td>\n",
       "      <td>Lawrence Paros, a american writer , educator ,...</td>\n",
       "      <td>1897</td>\n",
       "      <td>11</td>\n",
       "      <td>20.333333</td>\n",
       "      <td>1900</td>\n",
       "      <td>born in 1960.</td>\n",
       "      <td>born in 1957.</td>\n",
       "    </tr>\n",
       "    <tr>\n",
       "      <th>142</th>\n",
       "      <td>142</td>\n",
       "      <td>Larry Weinberg, a united states real estate de...</td>\n",
       "      <td>Larry Weinberg, a united states real estate de...</td>\n",
       "      <td>1979</td>\n",
       "      <td>26</td>\n",
       "      <td>29.333333</td>\n",
       "      <td>1980</td>\n",
       "      <td>born in 1980.</td>\n",
       "      <td>born in 1979.</td>\n",
       "    </tr>\n",
       "    <tr>\n",
       "      <th>148</th>\n",
       "      <td>148</td>\n",
       "      <td>Paul Tirard, a french chairman of the inter-al...</td>\n",
       "      <td>Paul Tirard, a french chairman of the inter-al...</td>\n",
       "      <td>1953</td>\n",
       "      <td>6</td>\n",
       "      <td>32.333333</td>\n",
       "      <td>1952</td>\n",
       "      <td>born in 1953.</td>\n",
       "      <td>born in 1975.</td>\n",
       "    </tr>\n",
       "    <tr>\n",
       "      <th>169</th>\n",
       "      <td>169</td>\n",
       "      <td>Henry Russell, a english composer, was born in...</td>\n",
       "      <td>Henry Russell, a english composer : 1804.\\nIva...</td>\n",
       "      <td>1962</td>\n",
       "      <td>12</td>\n",
       "      <td>11.000000</td>\n",
       "      <td>1954</td>\n",
       "      <td>born in 1950.</td>\n",
       "      <td>born in 1952.</td>\n",
       "    </tr>\n",
       "    <tr>\n",
       "      <th>173</th>\n",
       "      <td>173</td>\n",
       "      <td>Jeffrey Arthur Koterba, a american editorial c...</td>\n",
       "      <td>Jeffrey Arthur Koterba, a american editorial c...</td>\n",
       "      <td>1871</td>\n",
       "      <td>12</td>\n",
       "      <td>50.000000</td>\n",
       "      <td>1874</td>\n",
       "      <td>born in 1871.</td>\n",
       "      <td>born in 1940.</td>\n",
       "    </tr>\n",
       "    <tr>\n",
       "      <th>245</th>\n",
       "      <td>245</td>\n",
       "      <td>William Dixson, a australian businessman , col...</td>\n",
       "      <td>William Dixson, a australian businessman , col...</td>\n",
       "      <td>1979</td>\n",
       "      <td>27</td>\n",
       "      <td>11.000000</td>\n",
       "      <td>1974</td>\n",
       "      <td>born in an unknown year.</td>\n",
       "      <td>born in 1979.</td>\n",
       "    </tr>\n",
       "    <tr>\n",
       "      <th>328</th>\n",
       "      <td>328</td>\n",
       "      <td>Rene A. V. Saguisag, a filipino lawyer , senat...</td>\n",
       "      <td>Rene A. V. Saguisag, a filipino lawyer , senat...</td>\n",
       "      <td>1967</td>\n",
       "      <td>5</td>\n",
       "      <td>46.000000</td>\n",
       "      <td>1969</td>\n",
       "      <td>born in 1968.</td>\n",
       "      <td>born in 1967.</td>\n",
       "    </tr>\n",
       "    <tr>\n",
       "      <th>330</th>\n",
       "      <td>330</td>\n",
       "      <td>John Kenneth Sinclair St Joseph, a british aca...</td>\n",
       "      <td>John Kenneth Sinclair St Joseph, a british aca...</td>\n",
       "      <td>1958</td>\n",
       "      <td>11</td>\n",
       "      <td>22.333333</td>\n",
       "      <td>1968</td>\n",
       "      <td>born in 1956.</td>\n",
       "      <td>born in 1958.</td>\n",
       "    </tr>\n",
       "    <tr>\n",
       "      <th>430</th>\n",
       "      <td>430</td>\n",
       "      <td>Jessica Cirio, a argentina -- italy vedette , ...</td>\n",
       "      <td>Jessica Cirio, a argentina -- italy vedette , ...</td>\n",
       "      <td>1949</td>\n",
       "      <td>1</td>\n",
       "      <td>9.666667</td>\n",
       "      <td>1946</td>\n",
       "      <td>born in 1949.</td>\n",
       "      <td>born in 1959.</td>\n",
       "    </tr>\n",
       "    <tr>\n",
       "      <th>439</th>\n",
       "      <td>439</td>\n",
       "      <td>Grace Metalious, a american author, was born i...</td>\n",
       "      <td>Grace Metalious, a american author : 1921.\\nDo...</td>\n",
       "      <td>1967</td>\n",
       "      <td>2</td>\n",
       "      <td>16.666667</td>\n",
       "      <td>1977</td>\n",
       "      <td>born in 1968.</td>\n",
       "      <td>born in 1967.</td>\n",
       "    </tr>\n",
       "  </tbody>\n",
       "</table>\n",
       "</div>"
      ],
      "text/plain": [
       "     Unnamed: 0                                             prompt  \\\n",
       "10           10  Matthieu Ricard, a french buddhist monk, was b...   \n",
       "14           14  Shirley Anne Field, a british actress, was bor...   \n",
       "77           77  Lawrence Paros, a american writer , educator ,...   \n",
       "142         142  Larry Weinberg, a united states real estate de...   \n",
       "148         148  Paul Tirard, a french chairman of the inter-al...   \n",
       "169         169  Henry Russell, a english composer, was born in...   \n",
       "173         173  Jeffrey Arthur Koterba, a american editorial c...   \n",
       "245         245  William Dixson, a australian businessman , col...   \n",
       "328         328  Rene A. V. Saguisag, a filipino lawyer , senat...   \n",
       "330         330  John Kenneth Sinclair St Joseph, a british aca...   \n",
       "430         430  Jessica Cirio, a argentina -- italy vedette , ...   \n",
       "439         439  Grace Metalious, a american author, was born i...   \n",
       "\n",
       "                                       prompt_indirect  ground_truth  \\\n",
       "10   Matthieu Ricard, a french buddhist monk : 1953...          1955   \n",
       "14   Shirley Anne Field, a british actress : 1931.\\...          1938   \n",
       "77   Lawrence Paros, a american writer , educator ,...          1897   \n",
       "142  Larry Weinberg, a united states real estate de...          1979   \n",
       "148  Paul Tirard, a french chairman of the inter-al...          1953   \n",
       "169  Henry Russell, a english composer : 1804.\\nIva...          1962   \n",
       "173  Jeffrey Arthur Koterba, a american editorial c...          1871   \n",
       "245  William Dixson, a australian businessman , col...          1979   \n",
       "328  Rene A. V. Saguisag, a filipino lawyer , senat...          1967   \n",
       "330  John Kenneth Sinclair St Joseph, a british aca...          1958   \n",
       "430  Jessica Cirio, a argentina -- italy vedette , ...          1949   \n",
       "439  Grace Metalious, a american author : 1921.\\nDo...          1967   \n",
       "\n",
       "     citations_query  mean_citation_example  ground_truth_noisy  \\\n",
       "10                44              28.333333                1961   \n",
       "14                 1              24.666667                1934   \n",
       "77                11              20.333333                1900   \n",
       "142               26              29.333333                1980   \n",
       "148                6              32.333333                1952   \n",
       "169               12              11.000000                1954   \n",
       "173               12              50.000000                1874   \n",
       "245               27              11.000000                1974   \n",
       "328                5              46.000000                1969   \n",
       "330               11              22.333333                1968   \n",
       "430                1               9.666667                1946   \n",
       "439                2              16.666667                1977   \n",
       "\n",
       "               GPT 4 Response GPT 4 Response Indirect  \n",
       "10              born in 1956.           born in 1955.  \n",
       "14              born in 1946.           born in 1938.  \n",
       "77              born in 1960.           born in 1957.  \n",
       "142             born in 1980.           born in 1979.  \n",
       "148             born in 1953.           born in 1975.  \n",
       "169             born in 1950.           born in 1952.  \n",
       "173             born in 1871.           born in 1940.  \n",
       "245  born in an unknown year.           born in 1979.  \n",
       "328             born in 1968.           born in 1967.  \n",
       "330             born in 1956.           born in 1958.  \n",
       "430             born in 1949.           born in 1959.  \n",
       "439             born in 1968.           born in 1967.  "
      ]
     },
     "execution_count": 4,
     "metadata": {},
     "output_type": "execute_result"
    }
   ],
   "source": [
    "df[[df['GPT 4 Response'].iloc[:].tolist()[i] != df['GPT 4 Response Indirect'].iloc[:].tolist()[i] for i in  range(len(df))]]"
   ]
  },
  {
   "cell_type": "code",
   "execution_count": 5,
   "id": "01cae055",
   "metadata": {},
   "outputs": [],
   "source": [
    "def get_year(row):\n",
    "    return extract_year(row['GPT 4 Response'])\n",
    "def get_year_indirect(row):\n",
    "    return extract_year(row['GPT 4 Response Indirect'])\n",
    "def check_year_icl(row):\n",
    "    return str(row['ground_truth']) == row['response_year']\n",
    "def check_year_hallucination_icl(row):\n",
    "    return str(row['ground_truth']) != row['response_year']\n",
    "def check_year_icl_indirect(row):\n",
    "    return str(row['ground_truth']) == row['response_year_indirect']\n",
    "def check_year_hallucination_icl_indirect(row):\n",
    "    return str(row['ground_truth']) != row['response_year_indirect']\n"
   ]
  },
  {
   "cell_type": "code",
   "execution_count": 6,
   "id": "b2d18b66",
   "metadata": {},
   "outputs": [],
   "source": [
    "COUNT = len(df)\n",
    "df['response_year'] =  df.apply(get_year, axis=1)\n",
    "df['response_year_indirect'] = df.apply(get_year_indirect, axis=1)\n",
    "answered = df[[df['response_year'].iloc[:].tolist()[i] != None for i in  range(COUNT)]]\n",
    "answered_indirect = df[[df['response_year_indirect'].iloc[:].tolist()[i] != None for i in  range(COUNT)]]\n",
    "correct = answered.apply(check_year_icl, axis=1)\n",
    "hallucinated = answered.apply(check_year_hallucination_icl, axis=1)"
   ]
  },
  {
   "cell_type": "code",
   "execution_count": 7,
   "id": "2d259466",
   "metadata": {},
   "outputs": [
    {
     "name": "stdout",
     "output_type": "stream",
     "text": [
      "Hans Kristian Rausing, a swedish philanthropist, was born in 1965.\n",
      "Kunio Busujima, a japanese chairman and founder , sankyo, was born in 1929.\n",
      "Chandravadan Chimanlal Mehta, a indian playwright writer , critic , self-writer , poet , travel, was born in 1908.\n",
      "Willem Drees , Jr. ., a dutch politician civil servant economist professor, was ______\n"
     ]
    }
   ],
   "source": [
    "print(df['prompt'].to_list()[0])"
   ]
  },
  {
   "cell_type": "code",
   "execution_count": 8,
   "id": "e2f48c11",
   "metadata": {},
   "outputs": [
    {
     "name": "stdout",
     "output_type": "stream",
     "text": [
      "Number of samples:  500\n",
      "Number of samples with a answer:  499\n",
      "Number of correct response:  464\n",
      "Number of hallucinated response:  35\n"
     ]
    }
   ],
   "source": [
    "print(\"Number of samples: \", len(df))\n",
    "print(\"Number of samples with a answer: \", len(answered))\n",
    "print(\"Number of correct response: \", sum(correct))\n",
    "print(\"Number of hallucinated response: \", sum(hallucinated))"
   ]
  },
  {
   "cell_type": "code",
   "execution_count": 9,
   "id": "73cb54a6",
   "metadata": {},
   "outputs": [],
   "source": [
    "correct_indirect = answered.apply(check_year_icl_indirect, axis=1)\n",
    "hallucinated_indirect= answered.apply(check_year_hallucination_icl_indirect, axis=1)"
   ]
  },
  {
   "cell_type": "code",
   "execution_count": 10,
   "id": "2ee7faf9",
   "metadata": {},
   "outputs": [
    {
     "name": "stdout",
     "output_type": "stream",
     "text": [
      "Number of samples:  500\n",
      "Number of samples with a answer:  500\n",
      "Number of correct response:  467\n",
      "Number of hallucinated response:  32\n"
     ]
    }
   ],
   "source": [
    "print(\"Number of samples: \", len(df))\n",
    "print(\"Number of samples with a answer: \", len(answered_indirect))\n",
    "print(\"Number of correct response: \", sum(correct_indirect))\n",
    "print(\"Number of hallucinated response: \", sum(hallucinated_indirect))"
   ]
  },
  {
   "cell_type": "code",
   "execution_count": 11,
   "id": "8d7ff62e",
   "metadata": {},
   "outputs": [],
   "source": [
    "not_answered = df[[df['response_year'].iloc[:].tolist()[i] == None for i in  range(COUNT)]]"
   ]
  },
  {
   "cell_type": "code",
   "execution_count": 12,
   "id": "a8f17cb0",
   "metadata": {},
   "outputs": [
    {
     "data": {
      "text/plain": [
       "['born in an unknown year.']"
      ]
     },
     "execution_count": 12,
     "metadata": {},
     "output_type": "execute_result"
    }
   ],
   "source": [
    "not_answered['GPT 4 Response'].to_list()"
   ]
  },
  {
   "cell_type": "code",
   "execution_count": 13,
   "id": "b9106701",
   "metadata": {},
   "outputs": [],
   "source": [
    "df = df[[df['GPT 4 Response'].iloc[:].tolist()[i] != df['GPT 4 Response Indirect'].iloc[:].tolist()[i] for i in  range(len(df))]]"
   ]
  },
  {
   "cell_type": "code",
   "execution_count": 14,
   "id": "05870cb7",
   "metadata": {},
   "outputs": [
    {
     "name": "stdout",
     "output_type": "stream",
     "text": [
      "Number of samples diasgreed:  12\n",
      "Number of samples with a answer(explicit example):  11\n",
      "Number of correct response(explicit example):  3\n",
      "Number of hallucinated response(explicit example):  8\n",
      "\n",
      "\n",
      "Number of samples with a answer(indirect example):  12\n",
      "Number of correct response(indirect example):  6\n",
      "Number of hallucinated response(indirect example):  5\n"
     ]
    }
   ],
   "source": [
    "answered = df[[df['response_year'].iloc[:].tolist()[i] != None for i in  range(len(df))]]\n",
    "answered_indirect = df[[df['response_year_indirect'].iloc[:].tolist()[i] != None for i in  range(len(df))]]\n",
    "correct = answered.apply(check_year_icl, axis=1)\n",
    "hallucinated = answered.apply(check_year_hallucination_icl, axis=1)\n",
    "correct_indirect = answered.apply(check_year_icl_indirect, axis=1)\n",
    "hallucinated_indirect= answered.apply(check_year_hallucination_icl_indirect, axis=1)\n",
    "print(\"Number of samples diasgreed: \", len(df))\n",
    "print(\"Number of samples with a answer(explicit example): \", len(answered))\n",
    "print(\"Number of correct response(explicit example): \", sum(correct))\n",
    "print(\"Number of hallucinated response(explicit example): \", sum(hallucinated))\n",
    "\n",
    "print()\n",
    "print()\n",
    "\n",
    "print(\"Number of samples with a answer(indirect example): \", len(answered_indirect))\n",
    "print(\"Number of correct response(indirect example): \", sum(correct_indirect))\n",
    "print(\"Number of hallucinated response(indirect example): \", sum(hallucinated_indirect))"
   ]
  },
  {
   "cell_type": "markdown",
   "id": "89a4c5d1",
   "metadata": {},
   "source": [
    "### Findings\n",
    "- We note that for all of the ICL prompts the model was able to understand the task in hand. \n",
    "- For the sample it answered with a year, we notic that it is correct 94%. Although this seems high, we expected the model to recall all the years correctly.\n",
    "- With a success rate of 88%, this experiment needs more consideration possibly in terms of prompt engineering. \n",
    "- **Hypothesis**: The model would understand the task using the examples presented even if the examples are syntatically put together (not necessarily a cohesive sentence). However, the ability of the model to recall the birth year of a person is not conditioned on the syntax or the number of examples provided. "
   ]
  },
  {
   "cell_type": "code",
   "execution_count": null,
   "id": "45bf72c5",
   "metadata": {},
   "outputs": [],
   "source": []
  }
 ],
 "metadata": {
  "kernelspec": {
   "display_name": "Python (hallucination)",
   "language": "python",
   "name": "hallucination"
  },
  "language_info": {
   "codemirror_mode": {
    "name": "ipython",
    "version": 3
   },
   "file_extension": ".py",
   "mimetype": "text/x-python",
   "name": "python",
   "nbconvert_exporter": "python",
   "pygments_lexer": "ipython3",
   "version": "3.10.10"
  }
 },
 "nbformat": 4,
 "nbformat_minor": 5
}
