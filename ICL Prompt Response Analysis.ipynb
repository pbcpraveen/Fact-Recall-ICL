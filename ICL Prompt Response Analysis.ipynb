{
 "cells": [
  {
   "cell_type": "code",
   "execution_count": 1,
   "id": "feb18690",
   "metadata": {},
   "outputs": [],
   "source": [
    "import pandas as pd\n",
    "from utils import *"
   ]
  },
  {
   "cell_type": "code",
   "execution_count": 2,
   "id": "264c788c",
   "metadata": {},
   "outputs": [],
   "source": [
    "df = pd.read_csv(\"result/sample1_icl_indirect_prompt_response.csv\")"
   ]
  },
  {
   "cell_type": "code",
   "execution_count": 3,
   "id": "e7ea68a1",
   "metadata": {},
   "outputs": [
    {
     "data": {
      "text/html": [
       "<div>\n",
       "<style scoped>\n",
       "    .dataframe tbody tr th:only-of-type {\n",
       "        vertical-align: middle;\n",
       "    }\n",
       "\n",
       "    .dataframe tbody tr th {\n",
       "        vertical-align: top;\n",
       "    }\n",
       "\n",
       "    .dataframe thead th {\n",
       "        text-align: right;\n",
       "    }\n",
       "</style>\n",
       "<table border=\"1\" class=\"dataframe\">\n",
       "  <thead>\n",
       "    <tr style=\"text-align: right;\">\n",
       "      <th></th>\n",
       "      <th>Unnamed: 0</th>\n",
       "      <th>prompt</th>\n",
       "      <th>prompt_indirect</th>\n",
       "      <th>ground_truth</th>\n",
       "      <th>citations_query</th>\n",
       "      <th>mean_citation_example</th>\n",
       "      <th>GPT 4 Response</th>\n",
       "      <th>GPT 4 Response Indirect</th>\n",
       "    </tr>\n",
       "  </thead>\n",
       "  <tbody>\n",
       "    <tr>\n",
       "      <th>29</th>\n",
       "      <td>29</td>\n",
       "      <td>Ulka Gupta, a indian actress, was born in 1997...</td>\n",
       "      <td>Ulka Gupta, a indian actress : 1997.\\nRon Luci...</td>\n",
       "      <td>1924</td>\n",
       "      <td>1</td>\n",
       "      <td>32.000000</td>\n",
       "      <td>born in 1922.</td>\n",
       "      <td>born in (year not available).</td>\n",
       "    </tr>\n",
       "    <tr>\n",
       "      <th>72</th>\n",
       "      <td>72</td>\n",
       "      <td>Rutilio Escandón, a mexican lawyer, was born i...</td>\n",
       "      <td>Rutilio Escandón, a mexican lawyer : 1958.\\nTe...</td>\n",
       "      <td>1991</td>\n",
       "      <td>10</td>\n",
       "      <td>4.666667</td>\n",
       "      <td>born in 1994.</td>\n",
       "      <td>born in 1990.</td>\n",
       "    </tr>\n",
       "    <tr>\n",
       "      <th>190</th>\n",
       "      <td>190</td>\n",
       "      <td>Antoine Duquesne, a belgium politician, was bo...</td>\n",
       "      <td>Antoine Duquesne, a belgium politician : 1941....</td>\n",
       "      <td>1939</td>\n",
       "      <td>2</td>\n",
       "      <td>11.333333</td>\n",
       "      <td>born in 1943.</td>\n",
       "      <td>born in 1939.</td>\n",
       "    </tr>\n",
       "    <tr>\n",
       "      <th>214</th>\n",
       "      <td>214</td>\n",
       "      <td>Qurratulain Hyder, a indian writer, was born i...</td>\n",
       "      <td>Qurratulain Hyder, a indian writer : 1927.\\nPa...</td>\n",
       "      <td>1970</td>\n",
       "      <td>8</td>\n",
       "      <td>8.000000</td>\n",
       "      <td>born in 1956.</td>\n",
       "      <td>born in 1959.</td>\n",
       "    </tr>\n",
       "    <tr>\n",
       "      <th>230</th>\n",
       "      <td>230</td>\n",
       "      <td>Douglas Brinkley, a american historian, was bo...</td>\n",
       "      <td>Douglas Brinkley, a american historian : 1960....</td>\n",
       "      <td>1871</td>\n",
       "      <td>12</td>\n",
       "      <td>30.000000</td>\n",
       "      <td>born in 1940. (Note: This Winston Churchill is...</td>\n",
       "      <td>born in 1871.</td>\n",
       "    </tr>\n",
       "    <tr>\n",
       "      <th>283</th>\n",
       "      <td>283</td>\n",
       "      <td>Radu Pavel Gheo, a romanian novelist ) from en...</td>\n",
       "      <td>Radu Pavel Gheo, a romanian novelist ) from en...</td>\n",
       "      <td>1935</td>\n",
       "      <td>6</td>\n",
       "      <td>9.000000</td>\n",
       "      <td>born in 1934.</td>\n",
       "      <td>born in 1935.</td>\n",
       "    </tr>\n",
       "    <tr>\n",
       "      <th>332</th>\n",
       "      <td>332</td>\n",
       "      <td>Giovanni Amendola, a italian politician &amp; jour...</td>\n",
       "      <td>Giovanni Amendola, a italian politician &amp; jour...</td>\n",
       "      <td>1930</td>\n",
       "      <td>5</td>\n",
       "      <td>20.333333</td>\n",
       "      <td>born in 1937.</td>\n",
       "      <td>born in 1939.</td>\n",
       "    </tr>\n",
       "    <tr>\n",
       "      <th>420</th>\n",
       "      <td>420</td>\n",
       "      <td>Martin Walker, a british reporter and novelist...</td>\n",
       "      <td>Martin Walker, a british reporter and novelist...</td>\n",
       "      <td>1912</td>\n",
       "      <td>3</td>\n",
       "      <td>27.333333</td>\n",
       "      <td>born in 1928.</td>\n",
       "      <td>born in 1938.</td>\n",
       "    </tr>\n",
       "    <tr>\n",
       "      <th>497</th>\n",
       "      <td>497</td>\n",
       "      <td>Mikhail Vladislavovich Tyurin, a russian mecha...</td>\n",
       "      <td>Mikhail Vladislavovich Tyurin, a russian mecha...</td>\n",
       "      <td>1887</td>\n",
       "      <td>0</td>\n",
       "      <td>4.000000</td>\n",
       "      <td>born in 1887.</td>\n",
       "      <td>born in 1895.</td>\n",
       "    </tr>\n",
       "  </tbody>\n",
       "</table>\n",
       "</div>"
      ],
      "text/plain": [
       "     Unnamed: 0                                             prompt  \\\n",
       "29           29  Ulka Gupta, a indian actress, was born in 1997...   \n",
       "72           72  Rutilio Escandón, a mexican lawyer, was born i...   \n",
       "190         190  Antoine Duquesne, a belgium politician, was bo...   \n",
       "214         214  Qurratulain Hyder, a indian writer, was born i...   \n",
       "230         230  Douglas Brinkley, a american historian, was bo...   \n",
       "283         283  Radu Pavel Gheo, a romanian novelist ) from en...   \n",
       "332         332  Giovanni Amendola, a italian politician & jour...   \n",
       "420         420  Martin Walker, a british reporter and novelist...   \n",
       "497         497  Mikhail Vladislavovich Tyurin, a russian mecha...   \n",
       "\n",
       "                                       prompt_indirect  ground_truth  \\\n",
       "29   Ulka Gupta, a indian actress : 1997.\\nRon Luci...          1924   \n",
       "72   Rutilio Escandón, a mexican lawyer : 1958.\\nTe...          1991   \n",
       "190  Antoine Duquesne, a belgium politician : 1941....          1939   \n",
       "214  Qurratulain Hyder, a indian writer : 1927.\\nPa...          1970   \n",
       "230  Douglas Brinkley, a american historian : 1960....          1871   \n",
       "283  Radu Pavel Gheo, a romanian novelist ) from en...          1935   \n",
       "332  Giovanni Amendola, a italian politician & jour...          1930   \n",
       "420  Martin Walker, a british reporter and novelist...          1912   \n",
       "497  Mikhail Vladislavovich Tyurin, a russian mecha...          1887   \n",
       "\n",
       "     citations_query  mean_citation_example  \\\n",
       "29                 1              32.000000   \n",
       "72                10               4.666667   \n",
       "190                2              11.333333   \n",
       "214                8               8.000000   \n",
       "230               12              30.000000   \n",
       "283                6               9.000000   \n",
       "332                5              20.333333   \n",
       "420                3              27.333333   \n",
       "497                0               4.000000   \n",
       "\n",
       "                                        GPT 4 Response  \\\n",
       "29                                       born in 1922.   \n",
       "72                                       born in 1994.   \n",
       "190                                      born in 1943.   \n",
       "214                                      born in 1956.   \n",
       "230  born in 1940. (Note: This Winston Churchill is...   \n",
       "283                                      born in 1934.   \n",
       "332                                      born in 1937.   \n",
       "420                                      born in 1928.   \n",
       "497                                      born in 1887.   \n",
       "\n",
       "           GPT 4 Response Indirect  \n",
       "29   born in (year not available).  \n",
       "72                   born in 1990.  \n",
       "190                  born in 1939.  \n",
       "214                  born in 1959.  \n",
       "230                  born in 1871.  \n",
       "283                  born in 1935.  \n",
       "332                  born in 1939.  \n",
       "420                  born in 1938.  \n",
       "497                  born in 1895.  "
      ]
     },
     "execution_count": 3,
     "metadata": {},
     "output_type": "execute_result"
    }
   ],
   "source": [
    "df[[df['GPT 4 Response'].iloc[:].tolist()[i] != df['GPT 4 Response Indirect'].iloc[:].tolist()[i] for i in  range(len(df))]]"
   ]
  },
  {
   "cell_type": "code",
   "execution_count": 4,
   "id": "01cae055",
   "metadata": {},
   "outputs": [],
   "source": [
    "def get_year(row):\n",
    "    return extract_year(row['GPT 4 Response'])\n",
    "def get_year_indirect(row):\n",
    "    return extract_year(row['GPT 4 Response Indirect'])\n",
    "def check_year_icl(row):\n",
    "    return str(row['ground_truth']) == row['response_year']\n",
    "def check_year_hallucination_icl(row):\n",
    "    return str(row['ground_truth']) != row['response_year']\n",
    "def check_year_icl_indirect(row):\n",
    "    return str(row['ground_truth']) == row['response_year_indirect']\n",
    "def check_year_hallucination_icl_indirect(row):\n",
    "    return str(row['ground_truth']) != row['response_year_indirect']\n"
   ]
  },
  {
   "cell_type": "code",
   "execution_count": 5,
   "id": "b2d18b66",
   "metadata": {},
   "outputs": [],
   "source": [
    "COUNT = len(df)\n",
    "df['response_year'] =  df.apply(get_year, axis=1)\n",
    "df['response_year_indirect'] = df.apply(get_year_indirect, axis=1)\n",
    "answered = df[[df['response_year'].iloc[:].tolist()[i] != None for i in  range(COUNT)]]\n",
    "answered_indirect = df[[df['response_year_indirect'].iloc[:].tolist()[i] != None for i in  range(COUNT)]]\n",
    "correct = answered.apply(check_year_icl, axis=1)\n",
    "hallucinated = answered.apply(check_year_hallucination_icl, axis=1)"
   ]
  },
  {
   "cell_type": "code",
   "execution_count": 6,
   "id": "2d259466",
   "metadata": {},
   "outputs": [
    {
     "name": "stdout",
     "output_type": "stream",
     "text": [
      "John Robbins, a american author, was born in 1947.\n",
      "Isabella Ferrari, a italian actress, was born in 1964.\n",
      "Ernst Heinrich Von Schimmelmann, a german-danish businessman , politician , estate owner, was born in 1747.\n",
      "Jibanananda Das, a indian poet , writer, was ______\n"
     ]
    }
   ],
   "source": [
    "print(df['prompt'].to_list()[0])"
   ]
  },
  {
   "cell_type": "code",
   "execution_count": 7,
   "id": "e2f48c11",
   "metadata": {},
   "outputs": [
    {
     "name": "stdout",
     "output_type": "stream",
     "text": [
      "Number of samples:  500\n",
      "Number of samples with a answer:  499\n",
      "Number of correct response:  457\n",
      "Number of hallucinated response:  42\n"
     ]
    }
   ],
   "source": [
    "print(\"Number of samples: \", len(df))\n",
    "print(\"Number of samples with a answer: \", len(answered))\n",
    "print(\"Number of correct response: \", sum(correct))\n",
    "print(\"Number of hallucinated response: \", sum(hallucinated))"
   ]
  },
  {
   "cell_type": "code",
   "execution_count": 8,
   "id": "73cb54a6",
   "metadata": {},
   "outputs": [],
   "source": [
    "correct_indirect = answered.apply(check_year_icl_indirect, axis=1)\n",
    "hallucinated_indirect= answered.apply(check_year_hallucination_icl_indirect, axis=1)"
   ]
  },
  {
   "cell_type": "code",
   "execution_count": 32,
   "id": "2ee7faf9",
   "metadata": {},
   "outputs": [
    {
     "name": "stdout",
     "output_type": "stream",
     "text": [
      "Number of samples:  500\n",
      "Number of samples with a answer:  498\n",
      "Number of correct response:  459\n",
      "Number of hallucinated response:  40\n"
     ]
    }
   ],
   "source": [
    "print(\"Number of samples: \", len(df))\n",
    "print(\"Number of samples with a answer: \", len(answered_indirect))\n",
    "print(\"Number of correct response: \", sum(correct_indirect))\n",
    "print(\"Number of hallucinated response: \", sum(hallucinated_indirect))"
   ]
  },
  {
   "cell_type": "code",
   "execution_count": 27,
   "id": "8d7ff62e",
   "metadata": {},
   "outputs": [],
   "source": [
    "not_answered = df[[df['response_year'].iloc[:].tolist()[i] == None for i in  range(COUNT)]]"
   ]
  },
  {
   "cell_type": "code",
   "execution_count": 28,
   "id": "a8f17cb0",
   "metadata": {},
   "outputs": [
    {
     "data": {
      "text/plain": [
       "['born in an unknown year.']"
      ]
     },
     "execution_count": 28,
     "metadata": {},
     "output_type": "execute_result"
    }
   ],
   "source": [
    "not_answered['GPT 4 Response'].to_list()"
   ]
  },
  {
   "cell_type": "code",
   "execution_count": 34,
   "id": "b9106701",
   "metadata": {},
   "outputs": [],
   "source": [
    "df = df[[df['GPT 4 Response'].iloc[:].tolist()[i] != df['GPT 4 Response Indirect'].iloc[:].tolist()[i] for i in  range(len(df))]]"
   ]
  },
  {
   "cell_type": "code",
   "execution_count": 36,
   "id": "05870cb7",
   "metadata": {},
   "outputs": [
    {
     "name": "stdout",
     "output_type": "stream",
     "text": [
      "Number of samples diasgreed:  9\n",
      "Number of samples with a answer(explicit example):  9\n",
      "Number of correct response(explicit example):  1\n",
      "Number of hallucinated response(explicit example):  8\n",
      "\n",
      "\n",
      "Number of samples with a answer(indirect example):  8\n",
      "Number of correct response(indirect example):  3\n",
      "Number of hallucinated response(indirect example):  6\n"
     ]
    }
   ],
   "source": [
    "answered = df[[df['response_year'].iloc[:].tolist()[i] != None for i in  range(len(df))]]\n",
    "answered_indirect = df[[df['response_year_indirect'].iloc[:].tolist()[i] != None for i in  range(len(df))]]\n",
    "correct = answered.apply(check_year_icl, axis=1).to_list()\n",
    "hallucinated = answered.apply(check_year_hallucination_icl, axis=1).to_list()\n",
    "correct_indirect = answered.apply(check_year_icl_indirect, axis=1).to_list()\n",
    "hallucinated_indirect= answered.apply(check_year_hallucination_icl_indirect, axis=1).to_list()\n",
    "print(\"Number of samples diasgreed: \", len(df))\n",
    "print(\"Number of samples with a answer(explicit example): \", len(answered))\n",
    "print(\"Number of correct response(explicit example): \", sum(correct))\n",
    "print(\"Number of hallucinated response(explicit example): \", sum(hallucinated))\n",
    "\n",
    "print()\n",
    "print()\n",
    "\n",
    "print(\"Number of samples with a answer(indirect example): \", len(answered_indirect))\n",
    "print(\"Number of correct response(indirect example): \", sum(correct_indirect))\n",
    "print(\"Number of hallucinated response(indirect example): \", sum(hallucinated_indirect))"
   ]
  },
  {
   "cell_type": "markdown",
   "id": "89a4c5d1",
   "metadata": {},
   "source": [
    "### Findings\n",
    "- We note that for all of the ICL prompts the model was able to understand the task in hand. \n",
    "- For the sample it answered with a year, we notic that it is correct 94%. Although this seems high, we expected the model to recall all the years correctly.\n",
    "- With a success rate of 88%, this experiment needs more consideration possibly in terms of prompt engineering. \n",
    "- **Hypothesis**: The model would understand the task using the examples presented even if the examples are syntatically put together (not necessarily a cohesive sentence). However, the ability of the model to recall the birth year of a person is not conditioned on the syntax or the number of examples provided. "
   ]
  },
  {
   "cell_type": "code",
   "execution_count": null,
   "id": "45bf72c5",
   "metadata": {},
   "outputs": [],
   "source": []
  }
 ],
 "metadata": {
  "kernelspec": {
   "display_name": "Python (hallucination)",
   "language": "python",
   "name": "hallucination"
  },
  "language_info": {
   "codemirror_mode": {
    "name": "ipython",
    "version": 3
   },
   "file_extension": ".py",
   "mimetype": "text/x-python",
   "name": "python",
   "nbconvert_exporter": "python",
   "pygments_lexer": "ipython3",
   "version": "3.10.10"
  }
 },
 "nbformat": 4,
 "nbformat_minor": 5
}
