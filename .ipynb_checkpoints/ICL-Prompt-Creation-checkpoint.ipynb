{
 "cells": [
  {
   "cell_type": "code",
   "execution_count": 2,
   "id": "fbe5cd85",
   "metadata": {},
   "outputs": [],
   "source": [
    "import os\n",
    "import json\n",
    "import requests\n",
    "import argparse\n",
    "import openai\n",
    "from dotenv import load_dotenv\n",
    "from tqdm import tqdm\n",
    "from nltk import word_tokenize\n",
    "import string\n",
    "import pdb\n",
    "from tqdm import tqdm\n",
    "import statistics\n",
    "import pandas as pd\n",
    "import numpy as np\n",
    "from datasets import load_dataset\n",
    "load_dotenv('api_key.env')\n",
    "import re\n",
    "import pickle\n",
    "import seaborn as sns\n",
    "import matplotlib.pyplot as plt\n",
    "import itertools\n",
    "from utils import *\n",
    "\n",
    "openai.api_key = os.getenv(\"OPENAI_API_KEY\")\n"
   ]
  },
  {
   "cell_type": "code",
   "execution_count": 3,
   "id": "0cce5e6b",
   "metadata": {},
   "outputs": [
    {
     "name": "stderr",
     "output_type": "stream",
     "text": [
      "/tmp/ipykernel_525713/1483974030.py:7: SettingWithCopyWarning: \n",
      "A value is trying to be set on a copy of a slice from a DataFrame.\n",
      "Try using .loc[row_indexer,col_indexer] = value instead\n",
      "\n",
      "See the caveats in the documentation: https://pandas.pydata.org/pandas-docs/stable/user_guide/indexing.html#returning-a-view-versus-a-copy\n",
      "  correctly_answered['example'] = examples\n"
     ]
    }
   ],
   "source": [
    "df = pd.read_csv(\"result/sample1_prompt1_response.csv\")\n",
    "response_year = df.apply(lambda x: extract_year(x['GPT 4 Response Prompt1']), axis=1)\n",
    "df['response_year'] = response_year\n",
    "filtered = df[[df['response_year'].iloc[:].tolist()[i] != None for i in  range(1000)]]\n",
    "correctly_answered =  filtered[filtered.apply(check_year, axis=1)]\n",
    "examples = correctly_answered.apply(generate_example1, axis = 1)\n",
    "correctly_answered['example'] = examples"
   ]
  },
  {
   "cell_type": "code",
   "execution_count": 4,
   "id": "982fee49",
   "metadata": {},
   "outputs": [],
   "source": [
    "example_count=20\n",
    "icl_prompt = []\n",
    "i = 0\n",
    "while i < example_count:\n",
    "    sample = correctly_answered.sample(4)\n",
    "    icl_prompt.append(generate_examples(sample))\n",
    "    i+=1"
   ]
  },
  {
   "cell_type": "code",
   "execution_count": 6,
   "id": "dd99097d",
   "metadata": {},
   "outputs": [
    {
     "name": "stdout",
     "output_type": "stream",
     "text": [
      "['Sulochana Chavan a indian singer was born in 1933.\\nJoseph Calleja a maltese tenor was born in 1978.\\nWallace Souza a brazilian presenter , politician was born in 1958.\\nAlan B. Shepard , Jr. . a american naval aviator , test pilot ', 'Robert Roberthin a prussian geheimrat , poet was born in 1600.\\nMahmoud Dowlatabadi a iranian writer , actor was born in 1940.\\nBob Stenehjem a american roads and streets foreman was born in 1952.\\nChiho Saito a japanese manga artist ', 'Eden Robinson a haisla/heiltsuk author was born in 1968.\\nEmma Wray a british actress was born in 1965.\\nBen Hur Lampman a american journalist , essayist , poet was born in 1886.\\nNicholas Kollerstrom a british writer , historian of science ', 'Sante Kimes a american con artist was born in 1934.\\nEdward Topol a american novelist , screen writer , essayist . was born in 1938.\\nLance Gooden a american businessman was born in 1982.\\nMargarete Bagshaw a american artist ', 'Charles Ephrussi a russian art historian , critic was born in 1849.\\nChris Widener a american author , motivational speaker was born in 1966.\\nJán Kollár a slovak writer , poet , pastor was born in 1793.\\nWallace Souza a brazilian presenter , politician ', 'Joe Bob Briggs a american film critic , writer , actor was born in 1953.\\nSimon Lokodo a ugandan former catholic priest & politician was born in 1957.\\nHerman Brusselmans a belgian novelist , poet , playwright , columnist was born in 1957.\\nDaniel Levy a british businessman ', 'Ayşe Arman a turkish columnist , journalist was born in 1969.\\nDan Forrest a american composer was born in 1978.\\nEd Earl Repp a united states screenwriter , short story writer , novelist was born in 1901.\\nDhirubhai Ambani a indian founder of reliance capital of reliance industries founder of reliance power founder ', 'Dorothy Thompson a british ceo , drax group was born in 1960.\\nLetitia Elizabeth Landon a english writer was born in 1802.\\nAnatoli Alekseievich Ivanishin Анатолий Алексеевич Иванишин a russian pilot was born in 1969.\\nModadugu Vijay Gupta a indian biologist ', 'Mikael Bodlore-Penlaez a breton author was born in 1975.\\nMyra Keen a american invertebrate paleontologist malacologist was born in 1905.\\nChandan Sen চন্দন সেন a indian actor was born in 1963.\\nJeffrey Arthur Koterba a american editorial cartoonist & musician ', 'Hugh Herr a american academic engineer biophysicist was born in 1964.\\nWayne Roberts a american graffiti artist was born in 1950.\\nTashi Wangchuk Tenzing a nepalese mountaineer , tour guide was born in 1965.\\nAnn Rutherford a canadian-american actress ', 'Isaac Mizrahi a american fashion designer was born in 1961.\\nSaviour Pirotta a british author was born in 1958.\\nQurratulain Hyder a indian writer was born in 1927.\\nRodney Smith a american photography ', 'Taylor Lautner a american actor , voice actor , model , martial artist was born in 1992.\\nJohn Collier a british short story writer , screenplay writer was born in 1901.\\nJames Kendall Hosmer a american librarian , university professor was born in 1834.\\nDavid Edgar a british playwright ', 'Martin Walker a british reporter and novelist was born in 1947.\\nAleksey Lyapunov a russia mathematician was born in 1911.\\nAndrija Štampar a croatian physician was born in 1888.\\nBob Stenehjem a american roads and streets foreman ', 'Alfred William Hunt a united kingdom landscape painter was born in 1830.\\nKostis Palamas a greek poet was born in 1859.\\nCephas Yao Agbemenu a ghanaian artist -- art professor was born in 1951.\\nModadugu Vijay Gupta a indian biologist ', 'Chandan Sen চন্দন সেন a indian actor was born in 1963.\\nGregory R. Wiseman a united states test pilot , usn was born in 1975.\\nJean-Philippe Toussaint a belgian novelist screenwriter director was born in 1957.\\nClarence Hyde Cooke a american businessman , politician ', 'Boudewijn Bouckaert a belgian politician , professor was born in 1947.\\nPaolo Bonolis a italian television host was born in 1961.\\nKseniya Simonova a ukrainian singer , actor , songwriter composer , pianist was born in 1985.\\nDale Kildee a american politician ', 'Saviour Pirotta a british author was born in 1958.\\nDhirubhai Ambani a indian founder of reliance capital of reliance industries founder of reliance power founder was born in 1932.\\nTim Gunn a american fashion at liz claiborne , inc. . consultant , television personality , chief creative officer was born in 1953.\\nBob Stenehjem a american roads and streets foreman ', 'Gregory Reyes a united states businessman was born in 1962.\\nSemavi Eyice a turkish academic was born in 1922.\\nWole Olanipekun a nigerian jurist solicitor activist was born in 1951.\\nRamakrishna Ranga Rao a indian politician ', 'Sir Peter Williams a british physicist was born in 1945.\\nClifford D. Simak a american journalist , popular writer was born in 1904.\\nAfe Babalola a nigerian lawyer farmer educationist educational administrator was born in 1929.\\nSax Rohmer a british novelist ', 'Yoshiro Nakamatsu a japanese inventor was born in 1928.\\nOtto Jespersen a danish academic was born in 1860.\\nMatthew Carnahan a american director , writer , producer was born in 1961.\\nLawrence Paros a american writer , educator , filmmaker ']\n"
     ]
    }
   ],
   "source": [
    "print(icl_prompt)"
   ]
  },
  {
   "cell_type": "code",
   "execution_count": null,
   "id": "a60848d7",
   "metadata": {},
   "outputs": [],
   "source": []
  }
 ],
 "metadata": {
  "kernelspec": {
   "display_name": "Python (hallucination)",
   "language": "python",
   "name": "hallucination"
  },
  "language_info": {
   "codemirror_mode": {
    "name": "ipython",
    "version": 3
   },
   "file_extension": ".py",
   "mimetype": "text/x-python",
   "name": "python",
   "nbconvert_exporter": "python",
   "pygments_lexer": "ipython3",
   "version": "3.10.10"
  }
 },
 "nbformat": 4,
 "nbformat_minor": 5
}
