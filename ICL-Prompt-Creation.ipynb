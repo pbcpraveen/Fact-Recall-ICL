{
 "cells": [
  {
   "cell_type": "code",
   "execution_count": 1,
   "id": "fbe5cd85",
   "metadata": {},
   "outputs": [],
   "source": [
    "import os\n",
    "import json\n",
    "import requests\n",
    "import argparse\n",
    "import openai\n",
    "from dotenv import load_dotenv\n",
    "from tqdm import tqdm\n",
    "from nltk import word_tokenize\n",
    "import string\n",
    "import pdb\n",
    "from tqdm import tqdm\n",
    "import statistics\n",
    "import pandas as pd\n",
    "import numpy as np\n",
    "from datasets import load_dataset\n",
    "load_dotenv('api_key.env')\n",
    "import re\n",
    "import pickle\n",
    "import seaborn as sns\n",
    "import matplotlib.pyplot as plt\n",
    "import itertools\n",
    "from utils import *\n",
    "import random\n",
    "openai.api_key = os.getenv(\"OPENAI_API_KEY\")\n",
    "\n",
    "COUNT = 30\n",
    "n_threads = 5\n",
    "\n",
    "responses = [[] for _ in range(n_threads)]\n"
   ]
  },
  {
   "cell_type": "code",
   "execution_count": 2,
   "id": "0cce5e6b",
   "metadata": {},
   "outputs": [
    {
     "name": "stderr",
     "output_type": "stream",
     "text": [
      "/tmp/ipykernel_533643/1483974030.py:7: SettingWithCopyWarning: \n",
      "A value is trying to be set on a copy of a slice from a DataFrame.\n",
      "Try using .loc[row_indexer,col_indexer] = value instead\n",
      "\n",
      "See the caveats in the documentation: https://pandas.pydata.org/pandas-docs/stable/user_guide/indexing.html#returning-a-view-versus-a-copy\n",
      "  correctly_answered['example'] = examples\n"
     ]
    }
   ],
   "source": [
    "df = pd.read_csv(\"result/sample1_prompt1_response.csv\")\n",
    "response_year = df.apply(lambda x: extract_year(x['GPT 4 Response Prompt1']), axis=1)\n",
    "df['response_year'] = response_year\n",
    "filtered = df[[df['response_year'].iloc[:].tolist()[i] != None for i in  range(1000)]]\n",
    "correctly_answered =  filtered[filtered.apply(check_year, axis=1)]\n",
    "examples = correctly_answered.apply(generate_example1, axis = 1)\n",
    "correctly_answered['example'] = examples"
   ]
  },
  {
   "cell_type": "code",
   "execution_count": 3,
   "id": "982fee49",
   "metadata": {},
   "outputs": [],
   "source": [
    "example_count=20\n",
    "icl_prompt = []\n",
    "ground_truth = []\n",
    "citations_query = []\n",
    "mean_citation_example = []\n",
    "i = 0\n",
    "visited = set()\n",
    "while i < example_count:\n",
    "    sample = correctly_answered.sample(4)\n",
    "    query = sample.iloc[3]['name']\n",
    "    if query in visited:\n",
    "        continue\n",
    "    visited.add(query)\n",
    "    icl_prompt.append(generate_examples(sample))\n",
    "    ground_truth.append(sample.iloc[3]['wikipedia_birth_year'])\n",
    "    citations_query.append(sample.iloc[3]['citation'])\n",
    "    mean_citation_example.append(sum([sample.iloc[i]['citation'] for i in range(3)])/3)\n",
    "    i+=1\n",
    "prompts = icl_prompt\n"
   ]
  },
  {
   "cell_type": "code",
   "execution_count": 4,
   "id": "2c883414",
   "metadata": {},
   "outputs": [],
   "source": [
    "df = pd.DataFrame()\n",
    "df['prompt'] = prompts\n",
    "df['ground_truth'] = ground_truth\n",
    "df['citations_query'] = citations_query\n",
    "df['mean_citation_example'] = mean_citation_example"
   ]
  },
  {
   "cell_type": "code",
   "execution_count": 5,
   "id": "eb4d9beb",
   "metadata": {},
   "outputs": [
    {
     "name": "stdout",
     "output_type": "stream",
     "text": [
      "Cristina Odone, a italian , british journalist , writer , tv commentator, was born in 1960.\n",
      "Allen Ginsberg, a american writer , poet, was born in 1926.\n",
      "Thomas Tjapaltjarri, a n painter, was born in 1964.\n",
      "Titi Kamal, a indonesian model , actress , singer, was ______\n"
     ]
    }
   ],
   "source": [
    "print(df.iloc[5]['prompt'])"
   ]
  },
  {
   "cell_type": "code",
   "execution_count": null,
   "id": "9f56e6d9",
   "metadata": {},
   "outputs": [],
   "source": [
    "def querying_thread(prompts, index):\n",
    "    global responses\n",
    "    c = len(prompts)\n",
    "    i = 0\n",
    "    responses_thread = []\n",
    "    pbar = tqdm(total=c)\n",
    "    while (len(responses_thread) != c):\n",
    "        try:\n",
    "            query = [\n",
    "                {\"role\": \"user\", \"content\": prompts[i]}\n",
    "            ]\n",
    "            response = chatgpt_query(query)\n",
    "            i += 1\n",
    "            responses_thread.append(response)\n",
    "            pbar.update(1)\n",
    "        except:\n",
    "            print('sleeping')\n",
    "            time.sleep(10)\n",
    "    pbar.close()\n",
    "    responses[index] = responses_thread"
   ]
  },
  {
   "cell_type": "code",
   "execution_count": null,
   "id": "ad009243",
   "metadata": {},
   "outputs": [],
   "source": [
    "partitions = []\n",
    "bin_size = COUNT // n_threads\n",
    "for i in range(n_threads - 1):\n",
    "    partitions.append(prompts[i * bin_size: (i+1) * bin_size])\n",
    "partitions.append(prompts[(n_threads - 1) * bin_size:])\n",
    "threads = []\n",
    "for i in range(n_threads):\n",
    "    threads.append(threading.Thread(target=querying_thread, args=(partitions[i], i,)))\n",
    "\n",
    "\n",
    "i = 0 \n",
    "print(\"starting API resquests to OPENAI's GPT 4 using \", n_threads, \" threads\")\n",
    "print(\"Number of threads created: \", len(threads))\n",
    "print(\"Number of partitions created: \", len(partitions))\n",
    "\n",
    "for i in range(n_threads):\n",
    "    threads[i].start()\n",
    "for i in range(n_threads):\n",
    "    threads[i].join()\n",
    "\n",
    "responses = list(itertools.chain(*responses))\n",
    "\n",
    "df['GPT 4 Response'] = responses\n",
    "\n",
    "df.to_csv(\"result/sample1_icl_prompt_response.csv\")"
   ]
  },
  {
   "cell_type": "code",
   "execution_count": null,
   "id": "0e02fe2f",
   "metadata": {},
   "outputs": [],
   "source": [
    "query = [\n",
    "                {\"role\": \"user\", \"content\": \"Alfred William Hunt, a united kingdom landscape painter, was born in 1830.\\nMyra Keen, a american invertebrate paleontologist malacologist, was born in 1905.\\nJohn Franklin Carter, a american journalist writer , columnist , novelist , biographer , speech, was born in 1897.\\nWilliam Makepeace Thackeray, a english novelist , poet, was ______\"}\n",
    "            ]\n",
    "response = chatgpt_query(query)"
   ]
  },
  {
   "cell_type": "code",
   "execution_count": null,
   "id": "c2d6b701",
   "metadata": {},
   "outputs": [],
   "source": []
  }
 ],
 "metadata": {
  "kernelspec": {
   "display_name": "Python (hallucination)",
   "language": "python",
   "name": "hallucination"
  },
  "language_info": {
   "codemirror_mode": {
    "name": "ipython",
    "version": 3
   },
   "file_extension": ".py",
   "mimetype": "text/x-python",
   "name": "python",
   "nbconvert_exporter": "python",
   "pygments_lexer": "ipython3",
   "version": "3.10.10"
  }
 },
 "nbformat": 4,
 "nbformat_minor": 5
}
