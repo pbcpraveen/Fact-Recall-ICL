{
 "cells": [
  {
   "cell_type": "code",
   "execution_count": 1,
   "id": "feb18690",
   "metadata": {},
   "outputs": [],
   "source": [
    "import pandas as pd\n",
    "from utils import *"
   ]
  },
  {
   "cell_type": "code",
   "execution_count": 2,
   "id": "264c788c",
   "metadata": {},
   "outputs": [],
   "source": [
    "df = pd.read_csv(\"result/sample1_icl_indirect_prompt_response_noisy_72.csv\")"
   ]
  },
  {
   "cell_type": "code",
   "execution_count": 3,
   "id": "e7ea68a1",
   "metadata": {},
   "outputs": [
    {
     "data": {
      "text/html": [
       "<div>\n",
       "<style scoped>\n",
       "    .dataframe tbody tr th:only-of-type {\n",
       "        vertical-align: middle;\n",
       "    }\n",
       "\n",
       "    .dataframe tbody tr th {\n",
       "        vertical-align: top;\n",
       "    }\n",
       "\n",
       "    .dataframe thead th {\n",
       "        text-align: right;\n",
       "    }\n",
       "</style>\n",
       "<table border=\"1\" class=\"dataframe\">\n",
       "  <thead>\n",
       "    <tr style=\"text-align: right;\">\n",
       "      <th></th>\n",
       "      <th>Unnamed: 0</th>\n",
       "      <th>prompt</th>\n",
       "      <th>prompt_indirect</th>\n",
       "      <th>ground_truth</th>\n",
       "      <th>citations_query</th>\n",
       "      <th>mean_citation_example</th>\n",
       "      <th>ground_truth_noisy</th>\n",
       "      <th>GPT 4 Response</th>\n",
       "      <th>GPT 4 Response Indirect</th>\n",
       "    </tr>\n",
       "  </thead>\n",
       "  <tbody>\n",
       "    <tr>\n",
       "      <th>45</th>\n",
       "      <td>45</td>\n",
       "      <td>Dr. Michael Berenbaum, a american holocaust sc...</td>\n",
       "      <td>Dr. Michael Berenbaum, a american holocaust sc...</td>\n",
       "      <td>1953</td>\n",
       "      <td>2</td>\n",
       "      <td>7.000000</td>\n",
       "      <td>2024</td>\n",
       "      <td>born in 1953.</td>\n",
       "      <td>born in 1957.</td>\n",
       "    </tr>\n",
       "    <tr>\n",
       "      <th>100</th>\n",
       "      <td>100</td>\n",
       "      <td>Carmella Decesare, a american model , professi...</td>\n",
       "      <td>Carmella Decesare, a american model , professi...</td>\n",
       "      <td>1929</td>\n",
       "      <td>25</td>\n",
       "      <td>163.666667</td>\n",
       "      <td>1964</td>\n",
       "      <td>born in 1929.</td>\n",
       "      <td>It seems there is an error in the information ...</td>\n",
       "    </tr>\n",
       "    <tr>\n",
       "      <th>102</th>\n",
       "      <td>102</td>\n",
       "      <td>Babasaheb Purandare, a indian writer, was born...</td>\n",
       "      <td>Babasaheb Purandare, a indian writer : 1977.\\n...</td>\n",
       "      <td>1951</td>\n",
       "      <td>9</td>\n",
       "      <td>12.000000</td>\n",
       "      <td>1996</td>\n",
       "      <td>It seems there is some incorrect information i...</td>\n",
       "      <td>It seems there is some incorrect information i...</td>\n",
       "    </tr>\n",
       "    <tr>\n",
       "      <th>123</th>\n",
       "      <td>123</td>\n",
       "      <td>Michael Dobson, a british businessman, was bor...</td>\n",
       "      <td>Michael Dobson, a british businessman : 1992.\\...</td>\n",
       "      <td>1963</td>\n",
       "      <td>12</td>\n",
       "      <td>1.666667</td>\n",
       "      <td>1982</td>\n",
       "      <td>born in 1963.</td>\n",
       "      <td>born in 1962.</td>\n",
       "    </tr>\n",
       "    <tr>\n",
       "      <th>141</th>\n",
       "      <td>141</td>\n",
       "      <td>Amber Creek, a american student, was born in 2...</td>\n",
       "      <td>Amber Creek, a american student : 2025.\\nAshis...</td>\n",
       "      <td>1964</td>\n",
       "      <td>4</td>\n",
       "      <td>31.666667</td>\n",
       "      <td>2008</td>\n",
       "      <td>born in a different year (please provide the c...</td>\n",
       "      <td>born in an unknown year.</td>\n",
       "    </tr>\n",
       "    <tr>\n",
       "      <th>157</th>\n",
       "      <td>157</td>\n",
       "      <td>Tina Romero, a usa american actress, was born ...</td>\n",
       "      <td>Tina Romero, a usa american actress : 1992.\\nM...</td>\n",
       "      <td>1943</td>\n",
       "      <td>9</td>\n",
       "      <td>5.000000</td>\n",
       "      <td>2003</td>\n",
       "      <td>born in an unknown year.</td>\n",
       "      <td>born in 1945.</td>\n",
       "    </tr>\n",
       "    <tr>\n",
       "      <th>176</th>\n",
       "      <td>176</td>\n",
       "      <td>Halbe Zijlstra, a dutch politician management ...</td>\n",
       "      <td>Halbe Zijlstra, a dutch politician management ...</td>\n",
       "      <td>1970</td>\n",
       "      <td>8</td>\n",
       "      <td>20.666667</td>\n",
       "      <td>2029</td>\n",
       "      <td>born in 1950.</td>\n",
       "      <td>born in 1970.</td>\n",
       "    </tr>\n",
       "    <tr>\n",
       "      <th>193</th>\n",
       "      <td>193</td>\n",
       "      <td>Albrecht Wellmer, a german philosopher, was bo...</td>\n",
       "      <td>Albrecht Wellmer, a german philosopher : 1995....</td>\n",
       "      <td>1934</td>\n",
       "      <td>12</td>\n",
       "      <td>12.333333</td>\n",
       "      <td>1989</td>\n",
       "      <td>born in 1938.</td>\n",
       "      <td>born in 1934.</td>\n",
       "    </tr>\n",
       "    <tr>\n",
       "      <th>204</th>\n",
       "      <td>204</td>\n",
       "      <td>Cut Tari, a indonesian actress presenter model...</td>\n",
       "      <td>Cut Tari, a indonesian actress presenter model...</td>\n",
       "      <td>1971</td>\n",
       "      <td>10</td>\n",
       "      <td>43.000000</td>\n",
       "      <td>2038</td>\n",
       "      <td>born in an unknown year.</td>\n",
       "      <td>born in 1971.</td>\n",
       "    </tr>\n",
       "    <tr>\n",
       "      <th>329</th>\n",
       "      <td>329</td>\n",
       "      <td>Elco Brinkman, a dutch politician civil servan...</td>\n",
       "      <td>Elco Brinkman, a dutch politician civil servan...</td>\n",
       "      <td>1884</td>\n",
       "      <td>21</td>\n",
       "      <td>205.000000</td>\n",
       "      <td>1942</td>\n",
       "      <td>born in 1884.</td>\n",
       "      <td>born in 1904.</td>\n",
       "    </tr>\n",
       "    <tr>\n",
       "      <th>371</th>\n",
       "      <td>371</td>\n",
       "      <td>Kentaro Miura, a japanese manga artist, was bo...</td>\n",
       "      <td>Kentaro Miura, a japanese manga artist : 2029....</td>\n",
       "      <td>1934</td>\n",
       "      <td>7</td>\n",
       "      <td>45.333333</td>\n",
       "      <td>1970</td>\n",
       "      <td>born in 1934.</td>\n",
       "      <td>born in a different year. (Note: The birth yea...</td>\n",
       "    </tr>\n",
       "    <tr>\n",
       "      <th>404</th>\n",
       "      <td>404</td>\n",
       "      <td>Helen Cohn Schucman, a american professor of m...</td>\n",
       "      <td>Helen Cohn Schucman, a american professor of m...</td>\n",
       "      <td>1955</td>\n",
       "      <td>14</td>\n",
       "      <td>24.666667</td>\n",
       "      <td>2007</td>\n",
       "      <td>born in [insert year].</td>\n",
       "      <td>born in [insert year]. (Note: There is not eno...</td>\n",
       "    </tr>\n",
       "    <tr>\n",
       "      <th>458</th>\n",
       "      <td>458</td>\n",
       "      <td>Anthony Julian, a american attorney judge, was...</td>\n",
       "      <td>Anthony Julian, a american attorney judge : 19...</td>\n",
       "      <td>1897</td>\n",
       "      <td>11</td>\n",
       "      <td>38.333333</td>\n",
       "      <td>1923</td>\n",
       "      <td>born in 1909.</td>\n",
       "      <td>born in 1920.</td>\n",
       "    </tr>\n",
       "  </tbody>\n",
       "</table>\n",
       "</div>"
      ],
      "text/plain": [
       "     Unnamed: 0                                             prompt  \\\n",
       "45           45  Dr. Michael Berenbaum, a american holocaust sc...   \n",
       "100         100  Carmella Decesare, a american model , professi...   \n",
       "102         102  Babasaheb Purandare, a indian writer, was born...   \n",
       "123         123  Michael Dobson, a british businessman, was bor...   \n",
       "141         141  Amber Creek, a american student, was born in 2...   \n",
       "157         157  Tina Romero, a usa american actress, was born ...   \n",
       "176         176  Halbe Zijlstra, a dutch politician management ...   \n",
       "193         193  Albrecht Wellmer, a german philosopher, was bo...   \n",
       "204         204  Cut Tari, a indonesian actress presenter model...   \n",
       "329         329  Elco Brinkman, a dutch politician civil servan...   \n",
       "371         371  Kentaro Miura, a japanese manga artist, was bo...   \n",
       "404         404  Helen Cohn Schucman, a american professor of m...   \n",
       "458         458  Anthony Julian, a american attorney judge, was...   \n",
       "\n",
       "                                       prompt_indirect  ground_truth  \\\n",
       "45   Dr. Michael Berenbaum, a american holocaust sc...          1953   \n",
       "100  Carmella Decesare, a american model , professi...          1929   \n",
       "102  Babasaheb Purandare, a indian writer : 1977.\\n...          1951   \n",
       "123  Michael Dobson, a british businessman : 1992.\\...          1963   \n",
       "141  Amber Creek, a american student : 2025.\\nAshis...          1964   \n",
       "157  Tina Romero, a usa american actress : 1992.\\nM...          1943   \n",
       "176  Halbe Zijlstra, a dutch politician management ...          1970   \n",
       "193  Albrecht Wellmer, a german philosopher : 1995....          1934   \n",
       "204  Cut Tari, a indonesian actress presenter model...          1971   \n",
       "329  Elco Brinkman, a dutch politician civil servan...          1884   \n",
       "371  Kentaro Miura, a japanese manga artist : 2029....          1934   \n",
       "404  Helen Cohn Schucman, a american professor of m...          1955   \n",
       "458  Anthony Julian, a american attorney judge : 19...          1897   \n",
       "\n",
       "     citations_query  mean_citation_example  ground_truth_noisy  \\\n",
       "45                 2               7.000000                2024   \n",
       "100               25             163.666667                1964   \n",
       "102                9              12.000000                1996   \n",
       "123               12               1.666667                1982   \n",
       "141                4              31.666667                2008   \n",
       "157                9               5.000000                2003   \n",
       "176                8              20.666667                2029   \n",
       "193               12              12.333333                1989   \n",
       "204               10              43.000000                2038   \n",
       "329               21             205.000000                1942   \n",
       "371                7              45.333333                1970   \n",
       "404               14              24.666667                2007   \n",
       "458               11              38.333333                1923   \n",
       "\n",
       "                                        GPT 4 Response  \\\n",
       "45                                       born in 1953.   \n",
       "100                                      born in 1929.   \n",
       "102  It seems there is some incorrect information i...   \n",
       "123                                      born in 1963.   \n",
       "141  born in a different year (please provide the c...   \n",
       "157                           born in an unknown year.   \n",
       "176                                      born in 1950.   \n",
       "193                                      born in 1938.   \n",
       "204                           born in an unknown year.   \n",
       "329                                      born in 1884.   \n",
       "371                                      born in 1934.   \n",
       "404                             born in [insert year].   \n",
       "458                                      born in 1909.   \n",
       "\n",
       "                               GPT 4 Response Indirect  \n",
       "45                                       born in 1957.  \n",
       "100  It seems there is an error in the information ...  \n",
       "102  It seems there is some incorrect information i...  \n",
       "123                                      born in 1962.  \n",
       "141                           born in an unknown year.  \n",
       "157                                      born in 1945.  \n",
       "176                                      born in 1970.  \n",
       "193                                      born in 1934.  \n",
       "204                                      born in 1971.  \n",
       "329                                      born in 1904.  \n",
       "371  born in a different year. (Note: The birth yea...  \n",
       "404  born in [insert year]. (Note: There is not eno...  \n",
       "458                                      born in 1920.  "
      ]
     },
     "execution_count": 3,
     "metadata": {},
     "output_type": "execute_result"
    }
   ],
   "source": [
    "df[[df['GPT 4 Response'].iloc[:].tolist()[i] != df['GPT 4 Response Indirect'].iloc[:].tolist()[i] for i in  range(len(df))]]"
   ]
  },
  {
   "cell_type": "code",
   "execution_count": 4,
   "id": "01cae055",
   "metadata": {},
   "outputs": [],
   "source": [
    "def get_year(row):\n",
    "    return extract_year(row['GPT 4 Response'])\n",
    "def get_year_indirect(row):\n",
    "    return extract_year(row['GPT 4 Response Indirect'])\n",
    "def check_year_icl(row):\n",
    "    return str(row['ground_truth']) == row['response_year']\n",
    "def check_year_hallucination_icl(row):\n",
    "    return str(row['ground_truth']) != row['response_year']\n",
    "def check_year_icl_indirect(row):\n",
    "    return str(row['ground_truth']) == row['response_year_indirect']\n",
    "def check_year_hallucination_icl_indirect(row):\n",
    "    return str(row['ground_truth']) != row['response_year_indirect']\n"
   ]
  },
  {
   "cell_type": "code",
   "execution_count": 5,
   "id": "b2d18b66",
   "metadata": {},
   "outputs": [],
   "source": [
    "COUNT = len(df)\n",
    "df['response_year'] =  df.apply(get_year, axis=1)\n",
    "df['response_year_indirect'] = df.apply(get_year_indirect, axis=1)\n",
    "answered = df[[df['response_year'].iloc[:].tolist()[i] != None for i in  range(COUNT)]]\n",
    "answered_indirect = df[[df['response_year_indirect'].iloc[:].tolist()[i] != None for i in  range(COUNT)]]\n",
    "correct = answered.apply(check_year_icl, axis=1)\n",
    "hallucinated = answered.apply(check_year_hallucination_icl, axis=1)"
   ]
  },
  {
   "cell_type": "code",
   "execution_count": 6,
   "id": "2d259466",
   "metadata": {},
   "outputs": [
    {
     "name": "stdout",
     "output_type": "stream",
     "text": [
      "Jeffrey Zeldman, a us founder/executive creative director/publisher, was born in 1991.\n",
      "Wal Fife, a australian businessman, was born in 1935.\n",
      "David L. Snell, a american composer, was born in 1923.\n",
      "Aksel Hagen, a norwegian politician, was ______\n"
     ]
    }
   ],
   "source": [
    "print(df['prompt'].to_list()[0])"
   ]
  },
  {
   "cell_type": "code",
   "execution_count": 7,
   "id": "e2f48c11",
   "metadata": {},
   "outputs": [
    {
     "name": "stdout",
     "output_type": "stream",
     "text": [
      "Number of samples:  500\n",
      "Number of samples with a answer:  490\n",
      "Number of correct response:  448\n",
      "Number of hallucinated response:  42\n"
     ]
    }
   ],
   "source": [
    "print(\"Number of samples: \", len(df))\n",
    "print(\"Number of samples with a answer: \", len(answered))\n",
    "print(\"Number of correct response: \", sum(correct))\n",
    "print(\"Number of hallucinated response: \", sum(hallucinated))"
   ]
  },
  {
   "cell_type": "code",
   "execution_count": 8,
   "id": "73cb54a6",
   "metadata": {},
   "outputs": [],
   "source": [
    "correct_indirect = answered.apply(check_year_icl_indirect, axis=1)\n",
    "hallucinated_indirect= answered.apply(check_year_hallucination_icl_indirect, axis=1)"
   ]
  },
  {
   "cell_type": "code",
   "execution_count": 9,
   "id": "2ee7faf9",
   "metadata": {},
   "outputs": [
    {
     "name": "stdout",
     "output_type": "stream",
     "text": [
      "Number of samples:  500\n",
      "Number of samples with a answer:  492\n",
      "Number of correct response:  445\n",
      "Number of hallucinated response:  45\n"
     ]
    }
   ],
   "source": [
    "print(\"Number of samples: \", len(df))\n",
    "print(\"Number of samples with a answer: \", len(answered_indirect))\n",
    "print(\"Number of correct response: \", sum(correct_indirect))\n",
    "print(\"Number of hallucinated response: \", sum(hallucinated_indirect))"
   ]
  },
  {
   "cell_type": "code",
   "execution_count": 10,
   "id": "8d7ff62e",
   "metadata": {},
   "outputs": [],
   "source": [
    "not_answered = df[[df['response_year'].iloc[:].tolist()[i] == None for i in  range(COUNT)]]"
   ]
  },
  {
   "cell_type": "code",
   "execution_count": 11,
   "id": "a8f17cb0",
   "metadata": {},
   "outputs": [
    {
     "data": {
      "text/plain": [
       "['born in an unknown year.',\n",
       " 'born in a different year (please provide the correct year).',\n",
       " 'born in an unknown year.',\n",
       " 'born in an unknown year.',\n",
       " 'born in an unknown year.',\n",
       " 'born in an unknown year.',\n",
       " 'born in [year].',\n",
       " 'born in [insert year].',\n",
       " 'born in (year not available).',\n",
       " 'born in an unknown year.']"
      ]
     },
     "execution_count": 11,
     "metadata": {},
     "output_type": "execute_result"
    }
   ],
   "source": [
    "not_answered['GPT 4 Response'].to_list()"
   ]
  },
  {
   "cell_type": "code",
   "execution_count": 12,
   "id": "b9106701",
   "metadata": {},
   "outputs": [],
   "source": [
    "df = df[[df['GPT 4 Response'].iloc[:].tolist()[i] != df['GPT 4 Response Indirect'].iloc[:].tolist()[i] for i in  range(len(df))]]"
   ]
  },
  {
   "cell_type": "code",
   "execution_count": 13,
   "id": "05870cb7",
   "metadata": {},
   "outputs": [
    {
     "name": "stdout",
     "output_type": "stream",
     "text": [
      "Number of samples diasgreed:  13\n",
      "Number of samples with a answer(explicit example):  9\n",
      "Number of correct response(explicit example):  5\n",
      "Number of hallucinated response(explicit example):  4\n",
      "\n",
      "\n",
      "Number of samples with a answer(indirect example):  11\n",
      "Number of correct response(indirect example):  2\n",
      "Number of hallucinated response(indirect example):  7\n"
     ]
    }
   ],
   "source": [
    "answered = df[[df['response_year'].iloc[:].tolist()[i] != None for i in  range(len(df))]]\n",
    "answered_indirect = df[[df['response_year_indirect'].iloc[:].tolist()[i] != None for i in  range(len(df))]]\n",
    "correct = answered.apply(check_year_icl, axis=1)\n",
    "hallucinated = answered.apply(check_year_hallucination_icl, axis=1)\n",
    "correct_indirect = answered.apply(check_year_icl_indirect, axis=1)\n",
    "hallucinated_indirect= answered.apply(check_year_hallucination_icl_indirect, axis=1)\n",
    "print(\"Number of samples diasgreed: \", len(df))\n",
    "print(\"Number of samples with a answer(explicit example): \", len(answered))\n",
    "print(\"Number of correct response(explicit example): \", sum(correct))\n",
    "print(\"Number of hallucinated response(explicit example): \", sum(hallucinated))\n",
    "\n",
    "print()\n",
    "print()\n",
    "\n",
    "print(\"Number of samples with a answer(indirect example): \", len(answered_indirect))\n",
    "print(\"Number of correct response(indirect example): \", sum(correct_indirect))\n",
    "print(\"Number of hallucinated response(indirect example): \", sum(hallucinated_indirect))"
   ]
  },
  {
   "cell_type": "markdown",
   "id": "89a4c5d1",
   "metadata": {},
   "source": [
    "### Findings\n",
    "- We note that for all of the ICL prompts the model was able to understand the task in hand. \n",
    "- For the sample it answered with a year, we notic that it is correct 94%. Although this seems high, we expected the model to recall all the years correctly.\n",
    "- With a success rate of 88%, this experiment needs more consideration possibly in terms of prompt engineering. \n",
    "- **Hypothesis**: The model would understand the task using the examples presented even if the examples are syntatically put together (not necessarily a cohesive sentence). However, the ability of the model to recall the birth year of a person is not conditioned on the syntax or the number of examples provided. "
   ]
  },
  {
   "cell_type": "code",
   "execution_count": null,
   "id": "45bf72c5",
   "metadata": {},
   "outputs": [],
   "source": []
  }
 ],
 "metadata": {
  "kernelspec": {
   "display_name": "Python (hallucination)",
   "language": "python",
   "name": "hallucination"
  },
  "language_info": {
   "codemirror_mode": {
    "name": "ipython",
    "version": 3
   },
   "file_extension": ".py",
   "mimetype": "text/x-python",
   "name": "python",
   "nbconvert_exporter": "python",
   "pygments_lexer": "ipython3",
   "version": "3.10.10"
  }
 },
 "nbformat": 4,
 "nbformat_minor": 5
}
